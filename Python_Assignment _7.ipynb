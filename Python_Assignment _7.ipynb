{
 "cells": [
  {
   "cell_type": "markdown",
   "id": "bf170b04",
   "metadata": {},
   "source": [
    "# Q.1. Create two int type variables, apply addition, subtraction, division and multiplications\n",
    "\n",
    "First variable is __ & second variable is __.\n",
    "\n",
    "Addition: __ + __ = __\n",
    "    \n",
    "Subtraction: __ - __ = __\n",
    "    \n",
    "Multiplication: __ * __ = __\n",
    "    \n",
    "Division: __ / __ = __"
   ]
  },
  {
   "cell_type": "code",
   "execution_count": 1,
   "id": "fbc57a51",
   "metadata": {},
   "outputs": [
    {
     "name": "stdout",
     "output_type": "stream",
     "text": [
      "First variable is 9 & second variable is 3\n",
      "Addition : 9 + 3 =  12\n",
      "Subtraction : 9 - 3 =  6\n",
      "Multiplication : 9 * 3 =  27\n",
      "Division : 9 / 3 =  3.0\n"
     ]
    }
   ],
   "source": [
    "num1=9\n",
    "num2=3\n",
    "print(f\"First variable is {num1} & second variable is {num2}\")\n",
    "print(f\"Addition : {num1} + {num2} = \",num1+num2)\n",
    "print(f\"Subtraction : {num1} - {num2} = \",num1-num2)\n",
    "print(f\"Multiplication : {num1} * {num2} = \",num1*num2)\n",
    "print(f\"Division : {num1} / {num2} = \",num1/num2)"
   ]
  },
  {
   "cell_type": "markdown",
   "id": "9de75685",
   "metadata": {},
   "source": [
    "# Q.2. What is the difference between the following operators:\n",
    "(i) ‘/’ & ‘//’\n",
    "\n",
    "(ii) ‘**’ & ‘^’"
   ]
  },
  {
   "cell_type": "markdown",
   "id": "4371811a",
   "metadata": {},
   "source": [
    "(i) '/' and '//' Operators:\n",
    "\n",
    "'/' (Division Operator): This operator is used for regular division between two numbers. It returns a floating-point result, even if the dividend and divisor are both integers. For example, 7 / 3 would give 2.333....\n",
    "\n",
    "'//' (Floor Division Operator): This operator performs floor division, which means it rounds down the result to the nearest whole number. It returns an integer result. For example, 7 // 3 would give 2."
   ]
  },
  {
   "cell_type": "code",
   "execution_count": 7,
   "id": "cc97311e",
   "metadata": {},
   "outputs": [
    {
     "data": {
      "text/plain": [
       "2"
      ]
     },
     "execution_count": 7,
     "metadata": {},
     "output_type": "execute_result"
    }
   ],
   "source": [
    "#Example:\n",
    "regular_division = 7 / 3  # Result: 2.333...\n",
    "floor_division = 7 // 3   # Result: 2\n",
    "regular_division\n",
    "floor_division"
   ]
  },
  {
   "cell_type": "markdown",
   "id": "232cd993",
   "metadata": {},
   "source": [
    "(ii) '' and '^' Operators:**\n",
    "   \n",
    "'**' (Exponentiation Operator): This operator is used to raise a number to a certain power. For example, 2 ** 3 calculates 2 raised to the power of 3, resulting in 8.\n",
    "\n",
    "' ^ ' (Bitwise XOR Operator): This operator performs bitwise XOR (exclusive OR) operation between corresponding bits of two integers. It's not used for exponentiation as in mathematics.\n"
   ]
  },
  {
   "cell_type": "code",
   "execution_count": 8,
   "id": "6e6268dc",
   "metadata": {},
   "outputs": [],
   "source": [
    "#Example:\n",
    "exponentiation = 2 ** 3  # Result: 8\n",
    "bitwise_xor = 5 ^ 3      # Result: 6 (binary 101 ^ 011 = 110)"
   ]
  },
  {
   "cell_type": "markdown",
   "id": "c6014f9b",
   "metadata": {},
   "source": [
    "'/' is used for regular division.\n",
    "\n",
    "'//' is used for floor division (integer division).\n",
    "\n",
    "'**' is used for exponentiation.\n",
    "\n",
    "' ^ ' is used for bitwise XOR operation, not exponentiation."
   ]
  },
  {
   "cell_type": "markdown",
   "id": "115e40b7",
   "metadata": {},
   "source": [
    "# Q.3. List the logical operators."
   ]
  },
  {
   "cell_type": "markdown",
   "id": "4bb237c5",
   "metadata": {},
   "source": [
    "Logical operators in Python are used to perform logical operations on boolean values (True or False). Here is a list of logical operators in Python:\n",
    "\n",
    "and Operator: Returns True if both operands are True, otherwise returns False.\n",
    "\n",
    "or Operator: Returns True if at least one operand is True, otherwise returns False.\n",
    "\n",
    "not Operator: Returns the opposite of the operand's boolean value. If the operand is True, it returns False, and if the operand is False, it returns True.\n",
    "\n",
    "These operators are often used to combine and evaluate conditions in control structures like if statements and loops."
   ]
  },
  {
   "cell_type": "code",
   "execution_count": 9,
   "id": "bbdbb586",
   "metadata": {},
   "outputs": [],
   "source": [
    "#Example:\n",
    "x = True\n",
    "y = False\n",
    "\n",
    "result_and = x and y  # False (both operands are not True)\n",
    "result_or = x or y    # True (at least one operand is True)\n",
    "result_not = not x    # False (opposite of x, which is True)\n",
    "\n",
    "#Logical operators are fundamental for making decisions and controlling the flow of a program based on conditions."
   ]
  },
  {
   "cell_type": "markdown",
   "id": "16c19963",
   "metadata": {},
   "source": [
    "# Q.4. Explain right shift operator and left shift operator with examples."
   ]
  },
  {
   "cell_type": "markdown",
   "id": "256a7fd7",
   "metadata": {},
   "source": [
    "Right Shift (>>) Operator:\n",
    "\n",
    "The right shift operator shifts the bits of a number to the right by a specified number of positions. It effectively divides the number by 2 raised to the power of the shift amount.\n",
    "\n",
    "Syntax:\n",
    "\n",
    "result = number >> shift_amount"
   ]
  },
  {
   "cell_type": "code",
   "execution_count": 16,
   "id": "0d4069d5",
   "metadata": {},
   "outputs": [],
   "source": [
    "#Example:\n",
    "x = 8        # Binary: 1000\n",
    "y = x >> 1   # Shifts right by 1 position"
   ]
  },
  {
   "cell_type": "markdown",
   "id": "ffff0856",
   "metadata": {},
   "source": [
    "vLeft Shift (<<) Operator:\n",
    "\n",
    "The left shift operator shifts the bits of a number to the left by a specified number of positions. It effectively multiplies the number by 2 raised to the power of the shift amount.\n",
    "\n",
    "Syntax:\n",
    "    \n",
    "result = number <<shift_amount"
   ]
  },
  {
   "cell_type": "code",
   "execution_count": 15,
   "id": "6363bd30",
   "metadata": {},
   "outputs": [],
   "source": [
    "#Example:\n",
    "a = 5  # Binary: 0101\n",
    "b = a << 2  # Shifts left by 2 positions"
   ]
  },
  {
   "cell_type": "markdown",
   "id": "599586d6",
   "metadata": {},
   "source": [
    "Both right shift and left shift operators are useful when working with binary representations of numbers or when you need to perform bitwise operations on integers. They can be particularly handy in scenarios where you need to quickly multiply or divide by powers of 2."
   ]
  },
  {
   "cell_type": "markdown",
   "id": "2dea0204",
   "metadata": {},
   "source": [
    "# Q.5. Create a list containing int type data of length 15. Then write a code to check if 10 is present in the list or not."
   ]
  },
  {
   "cell_type": "code",
   "execution_count": 17,
   "id": "fa0e4bda",
   "metadata": {},
   "outputs": [
    {
     "name": "stdout",
     "output_type": "stream",
     "text": [
      "10 is present in the list.\n"
     ]
    }
   ],
   "source": [
    "# Create a list of integers\n",
    "integer_list = [5, 8, 10, 15, 20, 25, 30, 35, 40, 45, 50, 55, 60, 65, 70]\n",
    "\n",
    "# Check if 10 is present in the list\n",
    "if 10 in integer_list:\n",
    "    print(\"10 is present in the list.\")\n",
    "else:\n",
    "    print(\"10 is not present in the list.\")"
   ]
  },
  {
   "cell_type": "code",
   "execution_count": null,
   "id": "79c50514",
   "metadata": {},
   "outputs": [],
   "source": []
  }
 ],
 "metadata": {
  "kernelspec": {
   "display_name": "Python 3 (ipykernel)",
   "language": "python",
   "name": "python3"
  },
  "language_info": {
   "codemirror_mode": {
    "name": "ipython",
    "version": 3
   },
   "file_extension": ".py",
   "mimetype": "text/x-python",
   "name": "python",
   "nbconvert_exporter": "python",
   "pygments_lexer": "ipython3",
   "version": "3.9.7"
  }
 },
 "nbformat": 4,
 "nbformat_minor": 5
}
